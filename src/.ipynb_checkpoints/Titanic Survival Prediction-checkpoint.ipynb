{
 "cells": [
  {
   "cell_type": "code",
   "execution_count": 538,
   "metadata": {},
   "outputs": [],
   "source": [
    "import numpy as np\n",
    "import pandas as pd\n",
    "import matplotlib.pyplot as plt\n",
    "import sklearn\n",
    "from sklearn.ensemble import ExtraTreesClassifier"
   ]
  },
  {
   "cell_type": "code",
   "execution_count": 539,
   "metadata": {},
   "outputs": [
    {
     "name": "stdout",
     "output_type": "stream",
     "text": [
      "Train: \n",
      "Index(['PassengerId', 'Survived', 'Pclass', 'Name', 'Sex', 'Age', 'SibSp',\n",
      "       'Parch', 'Ticket', 'Fare', 'Cabin', 'Embarked'],\n",
      "      dtype='object')\n",
      "(892, 12)\n",
      "Test: \n",
      "Index(['PassengerId', 'Pclass', 'Name', 'Sex', 'Age', 'SibSp', 'Parch',\n",
      "       'Ticket', 'Fare', 'Cabin', 'Embarked'],\n",
      "      dtype='object')\n",
      "(419, 11)\n"
     ]
    }
   ],
   "source": [
    "names = ['PassengerId', 'Survived', 'Pclass', 'Name', 'Sex', 'Age', 'SibSp',\n",
    "       'Parch', 'Ticket', 'Fare', 'Cabin', 'Embarked']\n",
    "\n",
    "test_names = ['PassengerId', 'Pclass', 'Name', 'Sex', 'Age', 'SibSp',\n",
    "       'Parch', 'Ticket', 'Fare', 'Cabin', 'Embarked']\n",
    "classifier = ExtraTreesClassifier(random_state = 1)\n",
    "df1 = pd.read_csv(\"../data/train.csv\", names = names)\n",
    "df2 = pd.read_csv(\"../data/test.csv\", names = test_names)\n",
    "\n",
    "# See the columns and shape\n",
    "print(\"Train: \")\n",
    "print(df1.columns)\n",
    "print(df1.shape)\n",
    "print(\"Test: \")\n",
    "print(df2.columns)\n",
    "print(df2.shape)"
   ]
  },
  {
   "cell_type": "code",
   "execution_count": 540,
   "metadata": {},
   "outputs": [
    {
     "name": "stdout",
     "output_type": "stream",
     "text": [
      "False\n",
      "     Survived  Pclass     Sex  Age  SibSp  Parch     Fare  Embarked\n",
      "0    Survived  Pclass     Sex  Age  SibSp  Parch     Fare  Embarked\n",
      "1           0       3    male   22      1      0     7.25         S\n",
      "2           1       1  female   38      1      0  71.2833         C\n",
      "3           1       3  female   26      0      0    7.925         S\n",
      "4           1       1  female   35      1      0     53.1         S\n",
      "5           0       3    male   35      0      0     8.05         S\n",
      "6           0       3    male  NaN      0      0   8.4583         Q\n",
      "7           0       1    male   54      0      0  51.8625         S\n",
      "8           0       3    male    2      3      1   21.075         S\n",
      "9           1       3  female   27      0      2  11.1333         S\n",
      "10          1       2  female   14      1      0  30.0708         C\n",
      "11          1       3  female    4      1      1     16.7         S\n",
      "12          1       1  female   58      0      0    26.55         S\n",
      "13          0       3    male   20      0      0     8.05         S\n",
      "14          0       3    male   39      1      5   31.275         S\n",
      "15          0       3  female   14      0      0   7.8542         S\n",
      "16          1       2  female   55      0      0       16         S\n",
      "17          0       3    male    2      4      1   29.125         Q\n",
      "18          1       2    male  NaN      0      0       13         S\n",
      "19          0       3  female   31      1      0       18         S\n",
      "20          1       3  female  NaN      0      0    7.225         C\n",
      "21          0       2    male   35      0      0       26         S\n",
      "22          1       2    male   34      0      0       13         S\n",
      "23          1       3  female   15      0      0   8.0292         Q\n",
      "24          1       1    male   28      0      0     35.5         S\n",
      "25          0       3  female    8      3      1   21.075         S\n",
      "26          1       3  female   38      1      5  31.3875         S\n",
      "27          0       3    male  NaN      0      0    7.225         C\n",
      "28          0       1    male   19      3      2      263         S\n",
      "29          1       3  female  NaN      0      0   7.8792         Q\n",
      "..        ...     ...     ...  ...    ...    ...      ...       ...\n",
      "862         0       2    male   21      1      0     11.5         S\n",
      "863         1       1  female   48      0      0  25.9292         S\n",
      "864         0       3  female  NaN      8      2    69.55         S\n",
      "865         0       2    male   24      0      0       13         S\n",
      "866         1       2  female   42      0      0       13         S\n",
      "867         1       2  female   27      1      0  13.8583         C\n",
      "868         0       1    male   31      0      0  50.4958         S\n",
      "869         0       3    male  NaN      0      0      9.5         S\n",
      "870         1       3    male    4      1      1  11.1333         S\n",
      "871         0       3    male   26      0      0   7.8958         S\n",
      "872         1       1  female   47      1      1  52.5542         S\n",
      "873         0       1    male   33      0      0        5         S\n",
      "874         0       3    male   47      0      0        9         S\n",
      "875         1       2  female   28      1      0       24         C\n",
      "876         1       3  female   15      0      0    7.225         C\n",
      "877         0       3    male   20      0      0   9.8458         S\n",
      "878         0       3    male   19      0      0   7.8958         S\n",
      "879         0       3    male  NaN      0      0   7.8958         S\n",
      "880         1       1  female   56      0      1  83.1583         C\n",
      "881         1       2  female   25      0      1       26         S\n",
      "882         0       3    male   33      0      0   7.8958         S\n",
      "883         0       3  female   22      0      0  10.5167         S\n",
      "884         0       2    male   28      0      0     10.5         S\n",
      "885         0       3    male   25      0      0     7.05         S\n",
      "886         0       3  female   39      0      5   29.125         Q\n",
      "887         0       2    male   27      0      0       13         S\n",
      "888         1       1  female   19      0      0       30         S\n",
      "889         0       3  female  NaN      1      2    23.45         S\n",
      "890         1       1    male   26      0      0       30         C\n",
      "891         0       3    male   32      0      0     7.75         Q\n",
      "\n",
      "[892 rows x 8 columns]\n"
     ]
    }
   ],
   "source": [
    "# We will clean the data\n",
    "\n",
    "# Are all people unique?\n",
    "print(len(np.unique(df1[\"Name\"].values)) == total_train)\n",
    "\n",
    "# Store the passenger Id of test\n",
    "\n",
    "submit = df2[\"PassengerId\"]\n",
    "\n",
    "# We will remove the Name and Cabin, Embarked column\n",
    "df1.drop([\"Name\", \"PassengerId\", \"Ticket\", \"Cabin\"], axis = 1, inplace = True)\n",
    "df2.drop([\"Name\", \"PassengerId\", \"Ticket\", \"Cabin\"], axis = 1, inplace = True)\n",
    "\n",
    "print(df1)"
   ]
  },
  {
   "cell_type": "code",
   "execution_count": 541,
   "metadata": {},
   "outputs": [
    {
     "name": "stdout",
     "output_type": "stream",
     "text": [
      "     Survived  Pclass  Sex  Age  SibSp  Parch     Fare  Embarked\n",
      "0    Survived  Pclass  Sex  Age  SibSp  Parch     Fare  Embarked\n",
      "1           0       3    0   22      1      0     7.25         0\n",
      "2           1       1    1   38      1      0  71.2833         2\n",
      "3           1       3    1   26      0      0    7.925         0\n",
      "4           1       1    1   35      1      0     53.1         0\n",
      "5           0       3    0   35      0      0     8.05         0\n",
      "6           0       3    0    0      0      0   8.4583         1\n",
      "7           0       1    0   54      0      0  51.8625         0\n",
      "8           0       3    0    2      3      1   21.075         0\n",
      "9           1       3    1   27      0      2  11.1333         0\n",
      "10          1       2    1   14      1      0  30.0708         2\n",
      "11          1       3    1    4      1      1     16.7         0\n",
      "12          1       1    1   58      0      0    26.55         0\n",
      "13          0       3    0   20      0      0     8.05         0\n",
      "14          0       3    0   39      1      5   31.275         0\n",
      "15          0       3    1   14      0      0   7.8542         0\n",
      "16          1       2    1   55      0      0       16         0\n",
      "17          0       3    0    2      4      1   29.125         1\n",
      "18          1       2    0    0      0      0       13         0\n",
      "19          0       3    1   31      1      0       18         0\n",
      "20          1       3    1    0      0      0    7.225         2\n",
      "21          0       2    0   35      0      0       26         0\n",
      "22          1       2    0   34      0      0       13         0\n",
      "23          1       3    1   15      0      0   8.0292         1\n",
      "24          1       1    0   28      0      0     35.5         0\n",
      "25          0       3    1    8      3      1   21.075         0\n",
      "26          1       3    1   38      1      5  31.3875         0\n",
      "27          0       3    0    0      0      0    7.225         2\n",
      "28          0       1    0   19      3      2      263         0\n",
      "29          1       3    1    0      0      0   7.8792         1\n",
      "..        ...     ...  ...  ...    ...    ...      ...       ...\n",
      "862         0       2    0   21      1      0     11.5         0\n",
      "863         1       1    1   48      0      0  25.9292         0\n",
      "864         0       3    1    0      8      2    69.55         0\n",
      "865         0       2    0   24      0      0       13         0\n",
      "866         1       2    1   42      0      0       13         0\n",
      "867         1       2    1   27      1      0  13.8583         2\n",
      "868         0       1    0   31      0      0  50.4958         0\n",
      "869         0       3    0    0      0      0      9.5         0\n",
      "870         1       3    0    4      1      1  11.1333         0\n",
      "871         0       3    0   26      0      0   7.8958         0\n",
      "872         1       1    1   47      1      1  52.5542         0\n",
      "873         0       1    0   33      0      0        5         0\n",
      "874         0       3    0   47      0      0        9         0\n",
      "875         1       2    1   28      1      0       24         2\n",
      "876         1       3    1   15      0      0    7.225         2\n",
      "877         0       3    0   20      0      0   9.8458         0\n",
      "878         0       3    0   19      0      0   7.8958         0\n",
      "879         0       3    0    0      0      0   7.8958         0\n",
      "880         1       1    1   56      0      1  83.1583         2\n",
      "881         1       2    1   25      0      1       26         0\n",
      "882         0       3    0   33      0      0   7.8958         0\n",
      "883         0       3    1   22      0      0  10.5167         0\n",
      "884         0       2    0   28      0      0     10.5         0\n",
      "885         0       3    0   25      0      0     7.05         0\n",
      "886         0       3    1   39      0      5   29.125         1\n",
      "887         0       2    0   27      0      0       13         0\n",
      "888         1       1    1   19      0      0       30         0\n",
      "889         0       3    1    0      1      2    23.45         0\n",
      "890         1       1    0   26      0      0       30         2\n",
      "891         0       3    0   32      0      0     7.75         1\n",
      "\n",
      "[892 rows x 8 columns]\n"
     ]
    }
   ],
   "source": [
    "# Update Sex as 0 - Male, 1 - Female\n",
    "df1.loc[df1[\"Sex\"] == \"male\", \"Sex\"] = 0\n",
    "df1.loc[df1[\"Sex\"] == \"female\", \"Sex\"] = 1\n",
    "\n",
    "df2.loc[df2[\"Sex\"] == \"male\", \"Sex\"] = 0\n",
    "df2.loc[df2[\"Sex\"] == \"female\", \"Sex\"] = 1\n",
    "\n",
    "# Update Embarked S = 0, Q = 1, C = 2\n",
    "df1.loc[df1[\"Embarked\"] == \"S\", \"Embarked\"] = 0\n",
    "df1.loc[df1[\"Embarked\"] == \"Q\", \"Embarked\"] = 1\n",
    "df1.loc[df1[\"Embarked\"] == \"C\", \"Embarked\"] = 2\n",
    "\n",
    "df2.loc[df2[\"Embarked\"] == \"S\", \"Embarked\"] = 0\n",
    "df2.loc[df2[\"Embarked\"] == \"Q\", \"Embarked\"] = 1\n",
    "df2.loc[df2[\"Embarked\"] == \"C\", \"Embarked\"] = 2\n",
    "\n",
    "df1.fillna(0, inplace = True)\n",
    "df2.fillna(0, inplace = True)\n",
    "print(df1)"
   ]
  },
  {
   "cell_type": "code",
   "execution_count": 542,
   "metadata": {},
   "outputs": [
    {
     "name": "stdout",
     "output_type": "stream",
     "text": [
      "       Survived Pclass  Sex  Age SibSp Parch  Fare  Embarked\n",
      "count       892    892  892  892   892   892   892       892\n",
      "unique        3      4    3   90     8     8   249         4\n",
      "top           0      3    0    0     0     0  8.05         0\n",
      "freq        549    491  577  177   608   678    43       646\n"
     ]
    }
   ],
   "source": [
    "# See whether any data is missing\n",
    "print(df1.describe())\n"
   ]
  },
  {
   "cell_type": "code",
   "execution_count": 543,
   "metadata": {},
   "outputs": [
    {
     "name": "stdout",
     "output_type": "stream",
     "text": [
      "Train Count: (892, 8)\n"
     ]
    }
   ],
   "source": [
    "# Count of train and test data\n",
    "print(\"Train Count: {}\".format(df1.shape))"
   ]
  },
  {
   "cell_type": "code",
   "execution_count": 544,
   "metadata": {},
   "outputs": [],
   "source": [
    "# Get test and train data\n",
    "# Split out the ID and Y = Class, X = Other features\n",
    "train_data = df1.values\n",
    "test_data = df2.values\n",
    "x_train = train_data[1:, 1:]\n",
    "y_train = train_data[1:, 0]\n",
    "x_test = test_data[1:,0:]\n"
   ]
  },
  {
   "cell_type": "code",
   "execution_count": 545,
   "metadata": {},
   "outputs": [
    {
     "name": "stderr",
     "output_type": "stream",
     "text": [
      "/home/local/ZOHOCORP/chandra-pt2489/anaconda3/lib/python3.6/site-packages/sklearn/ensemble/forest.py:246: FutureWarning: The default value of n_estimators will change from 10 in version 0.20 to 100 in 0.22.\n",
      "  \"10 in version 0.20 to 100 in 0.22.\", FutureWarning)\n"
     ]
    },
    {
     "data": {
      "text/plain": [
       "ExtraTreesClassifier(bootstrap=False, class_weight=None, criterion='gini',\n",
       "           max_depth=None, max_features='auto', max_leaf_nodes=None,\n",
       "           min_impurity_decrease=0.0, min_impurity_split=None,\n",
       "           min_samples_leaf=1, min_samples_split=2,\n",
       "           min_weight_fraction_leaf=0.0, n_estimators=10, n_jobs=None,\n",
       "           oob_score=False, random_state=1, verbose=0, warm_start=False)"
      ]
     },
     "execution_count": 545,
     "metadata": {},
     "output_type": "execute_result"
    }
   ],
   "source": [
    "classifier.fit(x_train, y_train)"
   ]
  },
  {
   "cell_type": "code",
   "execution_count": 546,
   "metadata": {},
   "outputs": [
    {
     "name": "stdout",
     "output_type": "stream",
     "text": [
      "['0' '0' '0' '1' '1' '0' '0' '0' '1' '0' '0' '1' '1' '0' '1' '1' '0' '1'\n",
      " '0' '0' '1' '1' '1' '1' '1' '0' '1' '1' '1' '0' '0' '0' '1' '0' '1' '1'\n",
      " '0' '0' '0' '1' '1' '0' '0' '1' '1' '0' '0' '0' '1' '0' '0' '0' '1' '1'\n",
      " '0' '0' '0' '0' '0' '1' '0' '0' '0' '1' '0' '1' '1' '0' '0' '1' '1' '0'\n",
      " '0' '0' '1' '0' '0' '1' '0' '1' '1' '0' '1' '0' '0' '0' '0' '0' '1' '1'\n",
      " '1' '0' '1' '0' '1' '0' '1' '0' '0' '0' '1' '0' '0' '0' '1' '0' '0' '0'\n",
      " '0' '0' '0' '1' '1' '0' '1' '0' '0' '1' '0' '1' '1' '0' '1' '0' '0' '1'\n",
      " '0' '1' '0' '0' '1' '0' '0' '0' '0' '0' '0' '0' '0' '0' '0' '1' '0' '0'\n",
      " '1' '0' '0' '0' '0' '0' '1' '0' '0' '1' '0' '0' '1' '0' '1' '1' '1' '1'\n",
      " '1' '0' '0' '0' '0' '0' '1' '0' '0' '0' '0' '0' '0' '1' '1' '1' '1' '1'\n",
      " '0' '0' '1' '0' '1' '0' '1' '0' '0' '0' '0' '0' '1' '0' '1' '0' '1' '0'\n",
      " '0' '0' '0' '0' '0' '1' '0' '0' '0' '0' '1' '0' '0' '0' '0' '0' '1' '0'\n",
      " '1' '0' '1' '0' '1' '0' '1' '1' '0' '0' '0' '1' '0' '0' '0' '1' '0' '0'\n",
      " '1' '0' '1' '1' '1' '1' '1' '1' '0' '0' '0' '0' '1' '0' '1' '0' '1' '0'\n",
      " '0' '0' '0' '0' '0' '0' '1' '0' '0' '0' '1' '1' '0' '0' '0' '0' '0' '0'\n",
      " '0' '0' '1' '1' '0' '1' '0' '0' '0' '0' '0' '1' '1' '0' '1' '0' '0' '0'\n",
      " '0' '0' '0' '0' '0' '0' '0' '0' '1' '0' '0' '0' '1' '0' '0' '0' '1' '1'\n",
      " '1' '1' '0' '0' '0' '1' '0' '0' '1' '1' '0' '0' '0' '0' '0' '0' '0' '1'\n",
      " '1' '0' '1' '0' '0' '0' '1' '1' '0' '0' '0' '0' '1' '0' '0' '0' '0' '1'\n",
      " '0' '1' '1' '0' '0' '1' '0' '1' '1' '0' '0' '0' '0' '1' '1' '0' '0' '0'\n",
      " '0' '1' '1' '1' '1' '0' '0' '0' '1' '0' '0' '1' '0' '0' '1' '1' '0' '0'\n",
      " '0' '0' '0' '1' '0' '1' '1' '1' '0' '0' '0' '0' '0' '1' '1' '0' '0' '1'\n",
      " '0' '1' '0' '0' '1' '0' '1' '0' '1' '0' '0' '0' '1' '1' '1' '1' '0' '0'\n",
      " '1' '0' '0' '1']\n",
      "True\n"
     ]
    }
   ],
   "source": [
    "y_test = classifier.predict(x_test)\n",
    "print(y_test)\n",
    "print(len(y_test) == len(x_test))"
   ]
  },
  {
   "cell_type": "code",
   "execution_count": 547,
   "metadata": {},
   "outputs": [
    {
     "name": "stdout",
     "output_type": "stream",
     "text": [
      "(419,)\n"
     ]
    }
   ],
   "source": [
    "print(submit.shape)\n",
    "output = []\n",
    "for i in range(0, len(y_test)):\n",
    "    curr_list = []\n",
    "    curr_list.append(int(submit[i + 1]))\n",
    "    curr_list.append(y_test[i])\n",
    "    output.append(curr_list)"
   ]
  },
  {
   "cell_type": "code",
   "execution_count": 548,
   "metadata": {},
   "outputs": [],
   "source": [
    "df = pd.DataFrame(output, columns=[\"PassengerId\", \"Survived\"])\n",
    "df.to_csv(\"../output/output.csv\", index = False)"
   ]
  },
  {
   "cell_type": "code",
   "execution_count": null,
   "metadata": {},
   "outputs": [],
   "source": []
  }
 ],
 "metadata": {
  "kernelspec": {
   "display_name": "Python 3",
   "language": "python",
   "name": "python3"
  },
  "language_info": {
   "codemirror_mode": {
    "name": "ipython",
    "version": 3
   },
   "file_extension": ".py",
   "mimetype": "text/x-python",
   "name": "python",
   "nbconvert_exporter": "python",
   "pygments_lexer": "ipython3",
   "version": "3.6.7"
  }
 },
 "nbformat": 4,
 "nbformat_minor": 2
}
