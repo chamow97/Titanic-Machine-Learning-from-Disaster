{
 "cells": [
  {
   "cell_type": "code",
   "execution_count": 15,
   "metadata": {},
   "outputs": [],
   "source": [
    "import numpy as np\n",
    "import pandas as pd\n",
    "import matplotlib.pyplot as plt\n",
    "import sklearn\n",
    "from sklearn.ensemble import RandomForestClassifier"
   ]
  },
  {
   "cell_type": "code",
   "execution_count": 16,
   "metadata": {},
   "outputs": [
    {
     "ename": "SyntaxError",
     "evalue": "invalid syntax (<ipython-input-16-e919afaf6313>, line 9)",
     "output_type": "error",
     "traceback": [
      "\u001b[0;36m  File \u001b[0;32m\"<ipython-input-16-e919afaf6313>\"\u001b[0;36m, line \u001b[0;32m9\u001b[0m\n\u001b[0;31m    total_train =\u001b[0m\n\u001b[0m                  ^\u001b[0m\n\u001b[0;31mSyntaxError\u001b[0m\u001b[0;31m:\u001b[0m invalid syntax\n"
     ]
    }
   ],
   "source": [
    "names = ['PassengerId', 'Survived', 'Pclass', 'Name', 'Sex', 'Age', 'SibSp',\n",
    "       'Parch', 'Ticket', 'Fare', 'Cabin', 'Embarked']\n",
    "\n",
    "test_names = ['PassengerId', 'Pclass', 'Name', 'Sex', 'Age', 'SibSp',\n",
    "       'Parch', 'Ticket', 'Fare', 'Cabin', 'Embarked']\n",
    "classifier = RandomForestClassifier()\n",
    "df1 = pd.read_csv(\"../data/train.csv\", names = names)\n",
    "df2 = pd.read_csv(\"../data/test.csv\", names = test_names)\n",
    "total_train = df2.shape\n",
    "\n",
    "# See the columns and shape\n",
    "print(\"Train: \")\n",
    "print(df1.columns)\n",
    "print(df1.shape)\n",
    "print(\"Test: \")\n",
    "print(df2.columns)\n",
    "print(df2.shape)"
   ]
  },
  {
   "cell_type": "code",
   "execution_count": 14,
   "metadata": {},
   "outputs": [
    {
     "ename": "NameError",
     "evalue": "name 'total_train' is not defined",
     "output_type": "error",
     "traceback": [
      "\u001b[0;31m---------------------------------------------------------------------------\u001b[0m",
      "\u001b[0;31mNameError\u001b[0m                                 Traceback (most recent call last)",
      "\u001b[0;32m<ipython-input-14-c0b3e5f6137f>\u001b[0m in \u001b[0;36m<module>\u001b[0;34m\u001b[0m\n\u001b[1;32m      2\u001b[0m \u001b[0;34m\u001b[0m\u001b[0m\n\u001b[1;32m      3\u001b[0m \u001b[0;31m# Are all people unique?\u001b[0m\u001b[0;34m\u001b[0m\u001b[0;34m\u001b[0m\u001b[0;34m\u001b[0m\u001b[0m\n\u001b[0;32m----> 4\u001b[0;31m \u001b[0mprint\u001b[0m\u001b[0;34m(\u001b[0m\u001b[0mlen\u001b[0m\u001b[0;34m(\u001b[0m\u001b[0mnp\u001b[0m\u001b[0;34m.\u001b[0m\u001b[0munique\u001b[0m\u001b[0;34m(\u001b[0m\u001b[0mdf1\u001b[0m\u001b[0;34m[\u001b[0m\u001b[0;34m\"Name\"\u001b[0m\u001b[0;34m]\u001b[0m\u001b[0;34m.\u001b[0m\u001b[0mvalues\u001b[0m\u001b[0;34m)\u001b[0m\u001b[0;34m)\u001b[0m \u001b[0;34m==\u001b[0m \u001b[0mtotal_train\u001b[0m\u001b[0;34m)\u001b[0m\u001b[0;34m\u001b[0m\u001b[0;34m\u001b[0m\u001b[0m\n\u001b[0m\u001b[1;32m      5\u001b[0m \u001b[0;34m\u001b[0m\u001b[0m\n\u001b[1;32m      6\u001b[0m \u001b[0;31m# Store the passenger Id of test\u001b[0m\u001b[0;34m\u001b[0m\u001b[0;34m\u001b[0m\u001b[0;34m\u001b[0m\u001b[0m\n",
      "\u001b[0;31mNameError\u001b[0m: name 'total_train' is not defined"
     ]
    }
   ],
   "source": [
    "# We will clean the data\n",
    "\n",
    "# Are all people unique?\n",
    "print(len(np.unique(df1[\"Name\"].values)) == total_train)\n",
    "\n",
    "# Store the passenger Id of test\n",
    "\n",
    "submit = df2[\"PassengerId\"]\n",
    "\n",
    "# We will remove the Name and Cabin, Embarked column\n",
    "df1.drop([\"Name\", \"PassengerId\", \"Ticket\", \"Cabin\"], axis = 1, inplace = True)\n",
    "df2.drop([\"Name\", \"PassengerId\", \"Ticket\", \"Cabin\"], axis = 1, inplace = True)\n",
    "\n",
    "print(df1)"
   ]
  },
  {
   "cell_type": "code",
   "execution_count": 4,
   "metadata": {},
   "outputs": [
    {
     "name": "stdout",
     "output_type": "stream",
     "text": [
      "     PassengerId  Survived  Pclass  \\\n",
      "0    PassengerId  Survived  Pclass   \n",
      "1              1         0       3   \n",
      "2              2         1       1   \n",
      "3              3         1       3   \n",
      "4              4         1       1   \n",
      "5              5         0       3   \n",
      "6              6         0       3   \n",
      "7              7         0       1   \n",
      "8              8         0       3   \n",
      "9              9         1       3   \n",
      "10            10         1       2   \n",
      "11            11         1       3   \n",
      "12            12         1       1   \n",
      "13            13         0       3   \n",
      "14            14         0       3   \n",
      "15            15         0       3   \n",
      "16            16         1       2   \n",
      "17            17         0       3   \n",
      "18            18         1       2   \n",
      "19            19         0       3   \n",
      "20            20         1       3   \n",
      "21            21         0       2   \n",
      "22            22         1       2   \n",
      "23            23         1       3   \n",
      "24            24         1       1   \n",
      "25            25         0       3   \n",
      "26            26         1       3   \n",
      "27            27         0       3   \n",
      "28            28         0       1   \n",
      "29            29         1       3   \n",
      "..           ...       ...     ...   \n",
      "862          862         0       2   \n",
      "863          863         1       1   \n",
      "864          864         0       3   \n",
      "865          865         0       2   \n",
      "866          866         1       2   \n",
      "867          867         1       2   \n",
      "868          868         0       1   \n",
      "869          869         0       3   \n",
      "870          870         1       3   \n",
      "871          871         0       3   \n",
      "872          872         1       1   \n",
      "873          873         0       1   \n",
      "874          874         0       3   \n",
      "875          875         1       2   \n",
      "876          876         1       3   \n",
      "877          877         0       3   \n",
      "878          878         0       3   \n",
      "879          879         0       3   \n",
      "880          880         1       1   \n",
      "881          881         1       2   \n",
      "882          882         0       3   \n",
      "883          883         0       3   \n",
      "884          884         0       2   \n",
      "885          885         0       3   \n",
      "886          886         0       3   \n",
      "887          887         0       2   \n",
      "888          888         1       1   \n",
      "889          889         0       3   \n",
      "890          890         1       1   \n",
      "891          891         0       3   \n",
      "\n",
      "                                                  Name  Sex  Age  SibSp  \\\n",
      "0                                                 Name  Sex  Age  SibSp   \n",
      "1                              Braund, Mr. Owen Harris    0   22      1   \n",
      "2    Cumings, Mrs. John Bradley (Florence Briggs Th...    1   38      1   \n",
      "3                               Heikkinen, Miss. Laina    1   26      0   \n",
      "4         Futrelle, Mrs. Jacques Heath (Lily May Peel)    1   35      1   \n",
      "5                             Allen, Mr. William Henry    0   35      0   \n",
      "6                                     Moran, Mr. James    0    0      0   \n",
      "7                              McCarthy, Mr. Timothy J    0   54      0   \n",
      "8                       Palsson, Master. Gosta Leonard    0    2      3   \n",
      "9    Johnson, Mrs. Oscar W (Elisabeth Vilhelmina Berg)    1   27      0   \n",
      "10                 Nasser, Mrs. Nicholas (Adele Achem)    1   14      1   \n",
      "11                     Sandstrom, Miss. Marguerite Rut    1    4      1   \n",
      "12                            Bonnell, Miss. Elizabeth    1   58      0   \n",
      "13                      Saundercock, Mr. William Henry    0   20      0   \n",
      "14                         Andersson, Mr. Anders Johan    0   39      1   \n",
      "15                Vestrom, Miss. Hulda Amanda Adolfina    1   14      0   \n",
      "16                    Hewlett, Mrs. (Mary D Kingcome)     1   55      0   \n",
      "17                                Rice, Master. Eugene    0    2      4   \n",
      "18                        Williams, Mr. Charles Eugene    0    0      0   \n",
      "19   Vander Planke, Mrs. Julius (Emelia Maria Vande...    1   31      1   \n",
      "20                             Masselmani, Mrs. Fatima    1    0      0   \n",
      "21                                Fynney, Mr. Joseph J    0   35      0   \n",
      "22                               Beesley, Mr. Lawrence    0   34      0   \n",
      "23                         McGowan, Miss. Anna \"Annie\"    1   15      0   \n",
      "24                        Sloper, Mr. William Thompson    0   28      0   \n",
      "25                       Palsson, Miss. Torborg Danira    1    8      3   \n",
      "26   Asplund, Mrs. Carl Oscar (Selma Augusta Emilia...    1   38      1   \n",
      "27                             Emir, Mr. Farred Chehab    0    0      0   \n",
      "28                      Fortune, Mr. Charles Alexander    0   19      3   \n",
      "29                       O'Dwyer, Miss. Ellen \"Nellie\"    1    0      0   \n",
      "..                                                 ...  ...  ...    ...   \n",
      "862                        Giles, Mr. Frederick Edward    0   21      1   \n",
      "863  Swift, Mrs. Frederick Joel (Margaret Welles Ba...    1   48      0   \n",
      "864                  Sage, Miss. Dorothy Edith \"Dolly\"    1    0      8   \n",
      "865                             Gill, Mr. John William    0   24      0   \n",
      "866                           Bystrom, Mrs. (Karolina)    1   42      0   \n",
      "867                       Duran y More, Miss. Asuncion    1   27      1   \n",
      "868               Roebling, Mr. Washington Augustus II    0   31      0   \n",
      "869                        van Melkebeke, Mr. Philemon    0    0      0   \n",
      "870                    Johnson, Master. Harold Theodor    0    4      1   \n",
      "871                                  Balkic, Mr. Cerin    0   26      0   \n",
      "872   Beckwith, Mrs. Richard Leonard (Sallie Monypeny)    1   47      1   \n",
      "873                           Carlsson, Mr. Frans Olof    0   33      0   \n",
      "874                        Vander Cruyssen, Mr. Victor    0   47      0   \n",
      "875              Abelson, Mrs. Samuel (Hannah Wizosky)    1   28      1   \n",
      "876                   Najib, Miss. Adele Kiamie \"Jane\"    1   15      0   \n",
      "877                      Gustafsson, Mr. Alfred Ossian    0   20      0   \n",
      "878                               Petroff, Mr. Nedelio    0   19      0   \n",
      "879                                 Laleff, Mr. Kristo    0    0      0   \n",
      "880      Potter, Mrs. Thomas Jr (Lily Alexenia Wilson)    1   56      0   \n",
      "881       Shelley, Mrs. William (Imanita Parrish Hall)    1   25      0   \n",
      "882                                 Markun, Mr. Johann    0   33      0   \n",
      "883                       Dahlberg, Miss. Gerda Ulrika    1   22      0   \n",
      "884                      Banfield, Mr. Frederick James    0   28      0   \n",
      "885                             Sutehall, Mr. Henry Jr    0   25      0   \n",
      "886               Rice, Mrs. William (Margaret Norton)    1   39      0   \n",
      "887                              Montvila, Rev. Juozas    0   27      0   \n",
      "888                       Graham, Miss. Margaret Edith    1   19      0   \n",
      "889           Johnston, Miss. Catherine Helen \"Carrie\"    1    0      1   \n",
      "890                              Behr, Mr. Karl Howell    0   26      0   \n",
      "891                                Dooley, Mr. Patrick    0   32      0   \n",
      "\n",
      "     Parch            Ticket     Fare        Cabin  Embarked  \n",
      "0    Parch            Ticket     Fare        Cabin  Embarked  \n",
      "1        0         A/5 21171     7.25            0         0  \n",
      "2        0          PC 17599  71.2833          C85         2  \n",
      "3        0  STON/O2. 3101282    7.925            0         0  \n",
      "4        0            113803     53.1         C123         0  \n",
      "5        0            373450     8.05            0         0  \n",
      "6        0            330877   8.4583            0         1  \n",
      "7        0             17463  51.8625          E46         0  \n",
      "8        1            349909   21.075            0         0  \n",
      "9        2            347742  11.1333            0         0  \n",
      "10       0            237736  30.0708            0         2  \n",
      "11       1           PP 9549     16.7           G6         0  \n",
      "12       0            113783    26.55         C103         0  \n",
      "13       0         A/5. 2151     8.05            0         0  \n",
      "14       5            347082   31.275            0         0  \n",
      "15       0            350406   7.8542            0         0  \n",
      "16       0            248706       16            0         0  \n",
      "17       1            382652   29.125            0         1  \n",
      "18       0            244373       13            0         0  \n",
      "19       0            345763       18            0         0  \n",
      "20       0              2649    7.225            0         2  \n",
      "21       0            239865       26            0         0  \n",
      "22       0            248698       13          D56         0  \n",
      "23       0            330923   8.0292            0         1  \n",
      "24       0            113788     35.5           A6         0  \n",
      "25       1            349909   21.075            0         0  \n",
      "26       5            347077  31.3875            0         0  \n",
      "27       0              2631    7.225            0         2  \n",
      "28       2             19950      263  C23 C25 C27         0  \n",
      "29       0            330959   7.8792            0         1  \n",
      "..     ...               ...      ...          ...       ...  \n",
      "862      0             28134     11.5            0         0  \n",
      "863      0             17466  25.9292          D17         0  \n",
      "864      2          CA. 2343    69.55            0         0  \n",
      "865      0            233866       13            0         0  \n",
      "866      0            236852       13            0         0  \n",
      "867      0     SC/PARIS 2149  13.8583            0         2  \n",
      "868      0          PC 17590  50.4958          A24         0  \n",
      "869      0            345777      9.5            0         0  \n",
      "870      1            347742  11.1333            0         0  \n",
      "871      0            349248   7.8958            0         0  \n",
      "872      1             11751  52.5542          D35         0  \n",
      "873      0               695        5  B51 B53 B55         0  \n",
      "874      0            345765        9            0         0  \n",
      "875      0         P/PP 3381       24            0         2  \n",
      "876      0              2667    7.225            0         2  \n",
      "877      0              7534   9.8458            0         0  \n",
      "878      0            349212   7.8958            0         0  \n",
      "879      0            349217   7.8958            0         0  \n",
      "880      1             11767  83.1583          C50         2  \n",
      "881      1            230433       26            0         0  \n",
      "882      0            349257   7.8958            0         0  \n",
      "883      0              7552  10.5167            0         0  \n",
      "884      0  C.A./SOTON 34068     10.5            0         0  \n",
      "885      0   SOTON/OQ 392076     7.05            0         0  \n",
      "886      5            382652   29.125            0         1  \n",
      "887      0            211536       13            0         0  \n",
      "888      0            112053       30          B42         0  \n",
      "889      2        W./C. 6607    23.45            0         0  \n",
      "890      0            111369       30         C148         2  \n",
      "891      0            370376     7.75            0         1  \n",
      "\n",
      "[892 rows x 12 columns]\n"
     ]
    }
   ],
   "source": [
    "# Update Sex as 0 - Male, 1 - Female\n",
    "df1.loc[df1[\"Sex\"] == \"male\", \"Sex\"] = 0\n",
    "df1.loc[df1[\"Sex\"] == \"female\", \"Sex\"] = 1\n",
    "\n",
    "df2.loc[df2[\"Sex\"] == \"male\", \"Sex\"] = 0\n",
    "df2.loc[df2[\"Sex\"] == \"female\", \"Sex\"] = 1\n",
    "\n",
    "# Update Embarked S = 0, Q = 1, C = 2\n",
    "df1.loc[df1[\"Embarked\"] == \"S\", \"Embarked\"] = 0\n",
    "df1.loc[df1[\"Embarked\"] == \"Q\", \"Embarked\"] = 1\n",
    "df1.loc[df1[\"Embarked\"] == \"C\", \"Embarked\"] = 2\n",
    "\n",
    "df2.loc[df2[\"Embarked\"] == \"S\", \"Embarked\"] = 0\n",
    "df2.loc[df2[\"Embarked\"] == \"Q\", \"Embarked\"] = 1\n",
    "df2.loc[df2[\"Embarked\"] == \"C\", \"Embarked\"] = 2\n",
    "\n",
    "df1.fillna(0, inplace = True)\n",
    "df2.fillna(0, inplace = True)\n",
    "print(df1)"
   ]
  },
  {
   "cell_type": "code",
   "execution_count": 5,
   "metadata": {},
   "outputs": [
    {
     "name": "stdout",
     "output_type": "stream",
     "text": [
      "       PassengerId Survived Pclass                       Name  Sex  Age SibSp  \\\n",
      "count          892      892    892                        892  892  892   892   \n",
      "unique         892        3      4                        892    3   90     8   \n",
      "top            112        0      3  Shutes, Miss. Elizabeth W    0    0     0   \n",
      "freq             1      549    491                          1  577  177   608   \n",
      "\n",
      "       Parch    Ticket  Fare  Cabin  Embarked  \n",
      "count    892       892   892    892       892  \n",
      "unique     8       682   249    149         4  \n",
      "top        0  CA. 2343  8.05      0         0  \n",
      "freq     678         7    43    687       646  \n"
     ]
    }
   ],
   "source": [
    "# See whether any data is missing\n",
    "print(df1.describe())\n"
   ]
  },
  {
   "cell_type": "code",
   "execution_count": 6,
   "metadata": {},
   "outputs": [
    {
     "name": "stdout",
     "output_type": "stream",
     "text": [
      "Train Count: (892, 12)\n"
     ]
    }
   ],
   "source": [
    "# Count of train and test data\n",
    "print(\"Train Count: {}\".format(df1.shape))"
   ]
  },
  {
   "cell_type": "code",
   "execution_count": 7,
   "metadata": {},
   "outputs": [],
   "source": [
    "# Get test and train data\n",
    "# Split out the ID and Y = Class, X = Other features\n",
    "train_data = df1.values\n",
    "test_data = df2.values\n",
    "x_train = train_data[1:, 1:]\n",
    "y_train = train_data[1:, 0]\n",
    "x_test = test_data[1:,0:]\n"
   ]
  },
  {
   "cell_type": "code",
   "execution_count": 8,
   "metadata": {},
   "outputs": [
    {
     "name": "stderr",
     "output_type": "stream",
     "text": [
      "/home/local/ZOHOCORP/chandra-pt2489/anaconda3/lib/python3.6/site-packages/sklearn/ensemble/forest.py:246: FutureWarning: The default value of n_estimators will change from 10 in version 0.20 to 100 in 0.22.\n",
      "  \"10 in version 0.20 to 100 in 0.22.\", FutureWarning)\n"
     ]
    },
    {
     "ename": "ValueError",
     "evalue": "could not convert string to float: 'A/5 21171'",
     "output_type": "error",
     "traceback": [
      "\u001b[0;31m---------------------------------------------------------------------------\u001b[0m",
      "\u001b[0;31mValueError\u001b[0m                                Traceback (most recent call last)",
      "\u001b[0;32m<ipython-input-8-fdf0fc8db087>\u001b[0m in \u001b[0;36m<module>\u001b[0;34m\u001b[0m\n\u001b[0;32m----> 1\u001b[0;31m \u001b[0mclassifier\u001b[0m\u001b[0;34m.\u001b[0m\u001b[0mfit\u001b[0m\u001b[0;34m(\u001b[0m\u001b[0mx_train\u001b[0m\u001b[0;34m,\u001b[0m \u001b[0my_train\u001b[0m\u001b[0;34m)\u001b[0m\u001b[0;34m\u001b[0m\u001b[0;34m\u001b[0m\u001b[0m\n\u001b[0m",
      "\u001b[0;32m~/anaconda3/lib/python3.6/site-packages/sklearn/ensemble/forest.py\u001b[0m in \u001b[0;36mfit\u001b[0;34m(self, X, y, sample_weight)\u001b[0m\n\u001b[1;32m    248\u001b[0m \u001b[0;34m\u001b[0m\u001b[0m\n\u001b[1;32m    249\u001b[0m         \u001b[0;31m# Validate or convert input data\u001b[0m\u001b[0;34m\u001b[0m\u001b[0;34m\u001b[0m\u001b[0;34m\u001b[0m\u001b[0m\n\u001b[0;32m--> 250\u001b[0;31m         \u001b[0mX\u001b[0m \u001b[0;34m=\u001b[0m \u001b[0mcheck_array\u001b[0m\u001b[0;34m(\u001b[0m\u001b[0mX\u001b[0m\u001b[0;34m,\u001b[0m \u001b[0maccept_sparse\u001b[0m\u001b[0;34m=\u001b[0m\u001b[0;34m\"csc\"\u001b[0m\u001b[0;34m,\u001b[0m \u001b[0mdtype\u001b[0m\u001b[0;34m=\u001b[0m\u001b[0mDTYPE\u001b[0m\u001b[0;34m)\u001b[0m\u001b[0;34m\u001b[0m\u001b[0;34m\u001b[0m\u001b[0m\n\u001b[0m\u001b[1;32m    251\u001b[0m         \u001b[0my\u001b[0m \u001b[0;34m=\u001b[0m \u001b[0mcheck_array\u001b[0m\u001b[0;34m(\u001b[0m\u001b[0my\u001b[0m\u001b[0;34m,\u001b[0m \u001b[0maccept_sparse\u001b[0m\u001b[0;34m=\u001b[0m\u001b[0;34m'csc'\u001b[0m\u001b[0;34m,\u001b[0m \u001b[0mensure_2d\u001b[0m\u001b[0;34m=\u001b[0m\u001b[0;32mFalse\u001b[0m\u001b[0;34m,\u001b[0m \u001b[0mdtype\u001b[0m\u001b[0;34m=\u001b[0m\u001b[0;32mNone\u001b[0m\u001b[0;34m)\u001b[0m\u001b[0;34m\u001b[0m\u001b[0;34m\u001b[0m\u001b[0m\n\u001b[1;32m    252\u001b[0m         \u001b[0;32mif\u001b[0m \u001b[0msample_weight\u001b[0m \u001b[0;32mis\u001b[0m \u001b[0;32mnot\u001b[0m \u001b[0;32mNone\u001b[0m\u001b[0;34m:\u001b[0m\u001b[0;34m\u001b[0m\u001b[0;34m\u001b[0m\u001b[0m\n",
      "\u001b[0;32m~/anaconda3/lib/python3.6/site-packages/sklearn/utils/validation.py\u001b[0m in \u001b[0;36mcheck_array\u001b[0;34m(array, accept_sparse, accept_large_sparse, dtype, order, copy, force_all_finite, ensure_2d, allow_nd, ensure_min_samples, ensure_min_features, warn_on_dtype, estimator)\u001b[0m\n\u001b[1;32m    525\u001b[0m             \u001b[0;32mtry\u001b[0m\u001b[0;34m:\u001b[0m\u001b[0;34m\u001b[0m\u001b[0;34m\u001b[0m\u001b[0m\n\u001b[1;32m    526\u001b[0m                 \u001b[0mwarnings\u001b[0m\u001b[0;34m.\u001b[0m\u001b[0msimplefilter\u001b[0m\u001b[0;34m(\u001b[0m\u001b[0;34m'error'\u001b[0m\u001b[0;34m,\u001b[0m \u001b[0mComplexWarning\u001b[0m\u001b[0;34m)\u001b[0m\u001b[0;34m\u001b[0m\u001b[0;34m\u001b[0m\u001b[0m\n\u001b[0;32m--> 527\u001b[0;31m                 \u001b[0marray\u001b[0m \u001b[0;34m=\u001b[0m \u001b[0mnp\u001b[0m\u001b[0;34m.\u001b[0m\u001b[0masarray\u001b[0m\u001b[0;34m(\u001b[0m\u001b[0marray\u001b[0m\u001b[0;34m,\u001b[0m \u001b[0mdtype\u001b[0m\u001b[0;34m=\u001b[0m\u001b[0mdtype\u001b[0m\u001b[0;34m,\u001b[0m \u001b[0morder\u001b[0m\u001b[0;34m=\u001b[0m\u001b[0morder\u001b[0m\u001b[0;34m)\u001b[0m\u001b[0;34m\u001b[0m\u001b[0;34m\u001b[0m\u001b[0m\n\u001b[0m\u001b[1;32m    528\u001b[0m             \u001b[0;32mexcept\u001b[0m \u001b[0mComplexWarning\u001b[0m\u001b[0;34m:\u001b[0m\u001b[0;34m\u001b[0m\u001b[0;34m\u001b[0m\u001b[0m\n\u001b[1;32m    529\u001b[0m                 raise ValueError(\"Complex data not supported\\n\"\n",
      "\u001b[0;32m~/anaconda3/lib/python3.6/site-packages/numpy/core/numeric.py\u001b[0m in \u001b[0;36masarray\u001b[0;34m(a, dtype, order)\u001b[0m\n\u001b[1;32m    499\u001b[0m \u001b[0;34m\u001b[0m\u001b[0m\n\u001b[1;32m    500\u001b[0m     \"\"\"\n\u001b[0;32m--> 501\u001b[0;31m     \u001b[0;32mreturn\u001b[0m \u001b[0marray\u001b[0m\u001b[0;34m(\u001b[0m\u001b[0ma\u001b[0m\u001b[0;34m,\u001b[0m \u001b[0mdtype\u001b[0m\u001b[0;34m,\u001b[0m \u001b[0mcopy\u001b[0m\u001b[0;34m=\u001b[0m\u001b[0;32mFalse\u001b[0m\u001b[0;34m,\u001b[0m \u001b[0morder\u001b[0m\u001b[0;34m=\u001b[0m\u001b[0morder\u001b[0m\u001b[0;34m)\u001b[0m\u001b[0;34m\u001b[0m\u001b[0;34m\u001b[0m\u001b[0m\n\u001b[0m\u001b[1;32m    502\u001b[0m \u001b[0;34m\u001b[0m\u001b[0m\n\u001b[1;32m    503\u001b[0m \u001b[0;34m\u001b[0m\u001b[0m\n",
      "\u001b[0;31mValueError\u001b[0m: could not convert string to float: 'A/5 21171'"
     ]
    }
   ],
   "source": [
    "classifier.fit(x_train, y_train)"
   ]
  },
  {
   "cell_type": "code",
   "execution_count": 546,
   "metadata": {},
   "outputs": [
    {
     "name": "stdout",
     "output_type": "stream",
     "text": [
      "['0' '0' '0' '1' '1' '0' '0' '0' '1' '0' '0' '1' '1' '0' '1' '1' '0' '1'\n",
      " '0' '0' '1' '1' '1' '1' '1' '0' '1' '1' '1' '0' '0' '0' '1' '0' '1' '1'\n",
      " '0' '0' '0' '1' '1' '0' '0' '1' '1' '0' '0' '0' '1' '0' '0' '0' '1' '1'\n",
      " '0' '0' '0' '0' '0' '1' '0' '0' '0' '1' '0' '1' '1' '0' '0' '1' '1' '0'\n",
      " '0' '0' '1' '0' '0' '1' '0' '1' '1' '0' '1' '0' '0' '0' '0' '0' '1' '1'\n",
      " '1' '0' '1' '0' '1' '0' '1' '0' '0' '0' '1' '0' '0' '0' '1' '0' '0' '0'\n",
      " '0' '0' '0' '1' '1' '0' '1' '0' '0' '1' '0' '1' '1' '0' '1' '0' '0' '1'\n",
      " '0' '1' '0' '0' '1' '0' '0' '0' '0' '0' '0' '0' '0' '0' '0' '1' '0' '0'\n",
      " '1' '0' '0' '0' '0' '0' '1' '0' '0' '1' '0' '0' '1' '0' '1' '1' '1' '1'\n",
      " '1' '0' '0' '0' '0' '0' '1' '0' '0' '0' '0' '0' '0' '1' '1' '1' '1' '1'\n",
      " '0' '0' '1' '0' '1' '0' '1' '0' '0' '0' '0' '0' '1' '0' '1' '0' '1' '0'\n",
      " '0' '0' '0' '0' '0' '1' '0' '0' '0' '0' '1' '0' '0' '0' '0' '0' '1' '0'\n",
      " '1' '0' '1' '0' '1' '0' '1' '1' '0' '0' '0' '1' '0' '0' '0' '1' '0' '0'\n",
      " '1' '0' '1' '1' '1' '1' '1' '1' '0' '0' '0' '0' '1' '0' '1' '0' '1' '0'\n",
      " '0' '0' '0' '0' '0' '0' '1' '0' '0' '0' '1' '1' '0' '0' '0' '0' '0' '0'\n",
      " '0' '0' '1' '1' '0' '1' '0' '0' '0' '0' '0' '1' '1' '0' '1' '0' '0' '0'\n",
      " '0' '0' '0' '0' '0' '0' '0' '0' '1' '0' '0' '0' '1' '0' '0' '0' '1' '1'\n",
      " '1' '1' '0' '0' '0' '1' '0' '0' '1' '1' '0' '0' '0' '0' '0' '0' '0' '1'\n",
      " '1' '0' '1' '0' '0' '0' '1' '1' '0' '0' '0' '0' '1' '0' '0' '0' '0' '1'\n",
      " '0' '1' '1' '0' '0' '1' '0' '1' '1' '0' '0' '0' '0' '1' '1' '0' '0' '0'\n",
      " '0' '1' '1' '1' '1' '0' '0' '0' '1' '0' '0' '1' '0' '0' '1' '1' '0' '0'\n",
      " '0' '0' '0' '1' '0' '1' '1' '1' '0' '0' '0' '0' '0' '1' '1' '0' '0' '1'\n",
      " '0' '1' '0' '0' '1' '0' '1' '0' '1' '0' '0' '0' '1' '1' '1' '1' '0' '0'\n",
      " '1' '0' '0' '1']\n",
      "True\n"
     ]
    }
   ],
   "source": [
    "y_test = classifier.predict(x_test)\n",
    "print(y_test)\n",
    "print(len(y_test) == len(x_test))"
   ]
  },
  {
   "cell_type": "code",
   "execution_count": 547,
   "metadata": {},
   "outputs": [
    {
     "name": "stdout",
     "output_type": "stream",
     "text": [
      "(419,)\n"
     ]
    }
   ],
   "source": [
    "print(submit.shape)\n",
    "output = []\n",
    "for i in range(0, len(y_test)):\n",
    "    curr_list = []\n",
    "    curr_list.append(int(submit[i + 1]))\n",
    "    curr_list.append(y_test[i])\n",
    "    output.append(curr_list)"
   ]
  },
  {
   "cell_type": "code",
   "execution_count": 548,
   "metadata": {},
   "outputs": [],
   "source": [
    "df = pd.DataFrame(output, columns=[\"PassengerId\", \"Survived\"])\n",
    "df.to_csv(\"../output/output.csv\", index = False)"
   ]
  },
  {
   "cell_type": "code",
   "execution_count": null,
   "metadata": {},
   "outputs": [],
   "source": []
  }
 ],
 "metadata": {
  "kernelspec": {
   "display_name": "Python 3",
   "language": "python",
   "name": "python3"
  },
  "language_info": {
   "codemirror_mode": {
    "name": "ipython",
    "version": 3
   },
   "file_extension": ".py",
   "mimetype": "text/x-python",
   "name": "python",
   "nbconvert_exporter": "python",
   "pygments_lexer": "ipython3",
   "version": "3.6.7"
  }
 },
 "nbformat": 4,
 "nbformat_minor": 2
}
